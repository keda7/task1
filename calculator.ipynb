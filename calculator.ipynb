{
  "nbformat": 4,
  "nbformat_minor": 0,
  "metadata": {
    "colab": {
      "provenance": [],
      "authorship_tag": "ABX9TyM4ZQBNgoLj3DgFMRb6uiVn",
      "include_colab_link": true
    },
    "kernelspec": {
      "name": "python3",
      "display_name": "Python 3"
    },
    "language_info": {
      "name": "python"
    }
  },
  "cells": [
    {
      "cell_type": "markdown",
      "metadata": {
        "id": "view-in-github",
        "colab_type": "text"
      },
      "source": [
        "<a href=\"https://colab.research.google.com/github/keda7/task1/blob/main/calculator.ipynb\" target=\"_parent\"><img src=\"https://colab.research.google.com/assets/colab-badge.svg\" alt=\"Open In Colab\"/></a>"
      ]
    },
    {
      "cell_type": "code",
      "execution_count": 15,
      "metadata": {
        "id": "fhFLNEVp-Vaw"
      },
      "outputs": [],
      "source": [
        "def calculator():\n",
        "  print(\"Home\")\n",
        "  print(\"Select Operations\")\n",
        "  print(\"1. Addition\")\n",
        "  print(\"2. Subtraction\")\n",
        "  print(\"3. Multiplication\")\n",
        "  print(\"4. Division\")\n",
        "  print(\"5. Modulus\")\n"
      ]
    },
    {
      "cell_type": "code",
      "source": [
        "def add(x,y):\n",
        "  return  x + y\n",
        "\n",
        "def subtract(x,y):\n",
        "  return x - y\n",
        "\n",
        "def multiply(x,y):\n",
        "  return x * y\n",
        "\n",
        "def divide(x,y):\n",
        "  if y == 0:\n",
        "    return \"Error! undefined value.\"\n",
        "  else:\n",
        "    return x / y\n",
        "\n",
        "def modulus(x,y):\n",
        "  if y == 0:\n",
        "    return \"Error! undefined value.\"\n",
        "  return x % y"
      ],
      "metadata": {
        "id": "cO5wAOkNF0eO"
      },
      "execution_count": 16,
      "outputs": []
    },
    {
      "cell_type": "code",
      "source": [
        "def add(x,y):\n",
        "  return x + y\n",
        "\n",
        "def sub(x,y):\n",
        "  return x - y\n",
        "\n",
        "def mul(x,y):\n",
        "  return x * y\n",
        "\n",
        "def div(x,y):\n",
        "  if y == 0:\n",
        "    return \"Error! undefined value\"\n",
        "  else:\n",
        "    return x/y\n",
        "def mod(x,y):\n",
        "  if y == 0:\n",
        "    return \"Error! undefined value\"\n",
        "  else:\n",
        "    return x%y\n",
        "def calculator():\n",
        "  print(\"Home\")\n",
        "  print(\"Select Operations\")\n",
        "  print(\"1. Addition\")\n",
        "  print(\"2. Subtraction\")\n",
        "  print(\"3. Multiplication\")\n",
        "  print(\"4. Division\")\n",
        "  print(\"5. Modulus\")\n",
        "\n",
        "\n",
        "while True:\n",
        "  calculator()\n",
        "  choice =input(\"Enter your choice(1/2/3/4/5): \")\n",
        "  if choice in('1,2,3,4,5'):\n",
        "    a = float(input(\"Enter first number: \"))\n",
        "    b = float(input(\"Enter second number: \"))\n",
        "    if choice == '1':\n",
        "      print(\"Result is:\",add(a,b))\n",
        "    elif choice == '2':\n",
        "      print(\"Result is:\",sub(a,b))\n",
        "    elif choice == '3':\n",
        "      print(\"Result is:\", mul(a,b))\n",
        "    elif choice == '4':\n",
        "      print(\"Result is:\", div(a,b))\n",
        "    elif choice == '5':\n",
        "      print(\"Result is:\", mod(a,b))\n",
        "    break\n",
        "  else:\n",
        "    print(\"Invalid input\")"
      ],
      "metadata": {
        "colab": {
          "base_uri": "https://localhost:8080/"
        },
        "id": "ERe7OwAKG4nJ",
        "outputId": "71bdbee9-444c-4088-b78d-c15c3a2f21b6"
      },
      "execution_count": 17,
      "outputs": [
        {
          "output_type": "stream",
          "name": "stdout",
          "text": [
            "Home\n",
            "Select Operations\n",
            "1. Addition\n",
            "2. Subtraction\n",
            "3. Multiplication\n",
            "4. Division\n",
            "5. Modulus\n",
            "Enter your choice(1/2/3/4/5): 1\n",
            "Enter first number: 33\n",
            "Enter second number: 11\n",
            "Result is: 44.0\n"
          ]
        }
      ]
    }
  ]
}