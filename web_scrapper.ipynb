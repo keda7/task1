{
  "nbformat": 4,
  "nbformat_minor": 0,
  "metadata": {
    "colab": {
      "provenance": [],
      "authorship_tag": "ABX9TyO8KzlAYK5V+EE5URRQHvI1",
      "include_colab_link": true
    },
    "kernelspec": {
      "name": "python3",
      "display_name": "Python 3"
    },
    "language_info": {
      "name": "python"
    }
  },
  "cells": [
    {
      "cell_type": "markdown",
      "metadata": {
        "id": "view-in-github",
        "colab_type": "text"
      },
      "source": [
        "<a href=\"https://colab.research.google.com/github/keda7/task1/blob/main/web_scrapper.ipynb\" target=\"_parent\"><img src=\"https://colab.research.google.com/assets/colab-badge.svg\" alt=\"Open In Colab\"/></a>"
      ]
    },
    {
      "cell_type": "code",
      "execution_count": null,
      "metadata": {
        "collapsed": true,
        "id": "z6iDavEh6Win"
      },
      "outputs": [],
      "source": [
        "import requests\n",
        "\n",
        "from bs4 import BeautifulSoup\n",
        "\n",
        "#URL of the webpage you want to scrape\n",
        "\n",
        "url= 'https://en.wikipedia.org/wiki/Rohit_Sharma'\n",
        "\n",
        "#Sent a GET request to the URL\n",
        "\n",
        "response = requests.get(url)\n",
        "\n",
        "#Parse the HTML content soup BeautifulSoup(response.text, 'htal.parser\")\n",
        "soup = BeautifulSoup(response.text, 'html.parser')\n",
        "\n",
        "#Find specific elements using Beautifulsoup methods\n",
        "#For example, to extract all links on the page:\n",
        "links = soup.find_all('a')\n",
        "\n",
        "#Print the extracted links\n",
        "for link in links:\n",
        "  print(link.get('href'))\n",
        "\n",
        "\n",
        "\n"
      ]
    },
    {
      "cell_type": "code",
      "source": [
        "paragraphs = soup.find_all('p')\n",
        "for paragraph in paragraphs:\n",
        "  print(paragraph.text)\n"
      ],
      "metadata": {
        "id": "dCjHVTRB8s-K"
      },
      "execution_count": null,
      "outputs": []
    },
    {
      "cell_type": "code",
      "source": [
        "links = soup.find_all('a')\n",
        "for link in links:\n",
        "  print(link.get('href'))"
      ],
      "metadata": {
        "id": "-SG4npRZ9Jfz"
      },
      "execution_count": null,
      "outputs": []
    },
    {
      "cell_type": "code",
      "source": [
        "images = soup.find_all('img')\n",
        "for image in images:\n",
        "  print(image.get('src'))"
      ],
      "metadata": {
        "id": "Uiy8yGSf9oGj"
      },
      "execution_count": null,
      "outputs": []
    }
  ]
}